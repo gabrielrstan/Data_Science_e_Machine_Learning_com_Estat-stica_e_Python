{
 "cells": [
  {
   "cell_type": "code",
   "execution_count": 1,
   "metadata": {},
   "outputs": [],
   "source": [
    "import pandas as pd\n",
    "import matplotlib.pyplot as plt"
   ]
  },
  {
   "cell_type": "code",
   "execution_count": 2,
   "metadata": {},
   "outputs": [],
   "source": [
    "def calc_ticks(_list, bars):\n",
    "    _list.sort()\n",
    "    smaller_value = _list[0]\n",
    "    bigger_value = _list[-1]\n",
    "    interval = (bigger_value-smaller_value) / bars\n",
    "    ticks = [smaller_value]\n",
    "    last = smaller_value + interval\n",
    "    ticks.append(last)\n",
    "    for x in range(bars-1):\n",
    "        last += interval\n",
    "        ticks.append(last)\n",
    "    return ticks"
   ]
  },
  {
   "cell_type": "code",
   "execution_count": 3,
   "metadata": {},
   "outputs": [],
   "source": [
    "km = pd.Series([4, 8, 9, 11, 13, 15, 17, 17, 18, 19,\n",
    "               30, 36, 39, 40, 45, 46, 46, 55, 59, 69])"
   ]
  },
  {
   "cell_type": "code",
   "execution_count": 4,
   "metadata": {},
   "outputs": [],
   "source": [
    "def relative_frequency(total, yticks):\n",
    "    rel_freq = []\n",
    "    for item in yticks:\n",
    "        x = item/total\n",
    "        rel_freq.append(f\"{x:.2f}%\")\n",
    "    return rel_freq"
   ]
  },
  {
   "cell_type": "code",
   "execution_count": 5,
   "metadata": {},
   "outputs": [
    {
     "name": "stderr",
     "output_type": "stream",
     "text": [
      "/tmp/ipykernel_17377/2856314236.py:7: UserWarning: set_ticklabels() should only be used with a fixed number of ticks, i.e. after set_ticks() or using a FixedLocator.\n",
      "  ax.set_yticklabels(rel_freq)\n"
     ]
    },
    {
     "data": {
      "image/png": "[encoded data removed]",
      "text/plain": [
       "<Figure size 640x480 with 1 Axes>"
      ]
     },
     "metadata": {},
     "output_type": "display_data"
    }
   ],
   "source": [
    "_list = km.values\n",
    "bars = 5\n",
    "ax = km.plot.hist(bins=bars, rwidth=0.95)\n",
    "yticks = ax.get_yticks()\n",
    "total = len(_list)\n",
    "rel_freq = relative_frequency(total, yticks)\n",
    "ax.set_yticklabels(rel_freq)\n",
    "\n",
    "ticks = calc_ticks(_list, bars)\n",
    "plt.xticks(ticks)\n",
    "plt.title(\"Distance from home to work\")\n",
    "plt.xlabel('km')\n",
    "plt.grid(axis='y')\n",
    "plt.show()"
   ]
  },
  {
   "cell_type": "code",
   "execution_count": 6,
   "metadata": {},
   "outputs": [],
   "source": [
    "import statistics as stats"
   ]
  },
  {
   "cell_type": "code",
   "execution_count": 7,
   "metadata": {},
   "outputs": [],
   "source": [
    "values = [4, 8, 9, 11, 13, 15, 17, 17, 18, 19,\n",
    "          30, 36, 39, 40, 45, 46, 46, 55, 59, 69]"
   ]
  },
  {
   "cell_type": "markdown",
   "metadata": {},
   "source": [
    "# Média\n",
    "\n",
    "Somatório de valores de determinados elementos dividido pela quantidade de elementos somados.\n"
   ]
  },
  {
   "cell_type": "code",
   "execution_count": 8,
   "metadata": {},
   "outputs": [
    {
     "data": {
      "text/plain": [
       "29.8"
      ]
     },
     "execution_count": 8,
     "metadata": {},
     "output_type": "execute_result"
    }
   ],
   "source": [
    "sum(values)/len(values)"
   ]
  },
  {
   "cell_type": "code",
   "execution_count": 9,
   "metadata": {},
   "outputs": [
    {
     "data": {
      "text/plain": [
       "29.8"
      ]
     },
     "execution_count": 9,
     "metadata": {},
     "output_type": "execute_result"
    }
   ],
   "source": [
    "stats.mean(values)"
   ]
  },
  {
   "cell_type": "markdown",
   "metadata": {},
   "source": [
    "# Mediana\n",
    "\n",
    "Dada uma sequência de valores ordenados em ordem crescente ou decrescente, a mediana é o valor central dessa sequência. Caso haja dois valores centrais, a mediana é dada pela média aritmética deles.\n"
   ]
  },
  {
   "cell_type": "code",
   "execution_count": 10,
   "metadata": {},
   "outputs": [
    {
     "data": {
      "text/plain": [
       "24.5"
      ]
     },
     "execution_count": 10,
     "metadata": {},
     "output_type": "execute_result"
    }
   ],
   "source": [
    "stats.median(values)"
   ]
  },
  {
   "cell_type": "markdown",
   "metadata": {},
   "source": [
    "# Moda\n",
    "\n",
    "Dado um conjunto de valores, a moda é o número que mais se repete.\n"
   ]
  },
  {
   "cell_type": "code",
   "execution_count": 11,
   "metadata": {},
   "outputs": [
    {
     "data": {
      "text/plain": [
       "17"
      ]
     },
     "execution_count": 11,
     "metadata": {},
     "output_type": "execute_result"
    }
   ],
   "source": [
    "stats.mode(values)"
   ]
  }
 ],
 "metadata": {
  "kernelspec": {
   "display_name": "curso_data_science",
   "language": "python",
   "name": "curso_data_science"
  },
  "language_info": {
   "codemirror_mode": {
    "name": "ipython",
    "version": 3
   },
   "file_extension": ".py",
   "mimetype": "text/x-python",
   "name": "python",
   "nbconvert_exporter": "python",
   "pygments_lexer": "ipython3",
   "version": "3.12.3"
  }
 },
 "nbformat": 4,
 "nbformat_minor": 2
}
