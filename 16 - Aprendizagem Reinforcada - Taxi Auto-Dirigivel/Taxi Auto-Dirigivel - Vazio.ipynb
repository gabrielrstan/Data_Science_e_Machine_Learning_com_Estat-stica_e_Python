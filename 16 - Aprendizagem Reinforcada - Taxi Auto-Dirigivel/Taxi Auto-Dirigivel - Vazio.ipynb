{
 "cells": [
  {
   "cell_type": "markdown",
   "metadata": {},
   "source": [
    "# Aprendizagem Reinforçada\n",
    "\n",
    "## Taxi Auto-Dirigível\n",
    "\n",
    "O agente de Aprendizagem Reinforçada _(Reinforcement Learning)_ encontra um estado/cenário, e então toma uma ação de acordo com o estado/cenário atual. O objetivo é que o agente aprenda a pegar o passageiro numa posição e deixá-lo no destino.\n",
    "\n",
    "<img src=\"imagens/taxienv.png\" width=\"400px\" />\n",
    "\n",
    "- 5 x 5 = 25 possíveis posições\n",
    "- Posição atual do táxi (3,1) - Linha 3 e Coluna 1\n",
    "- 4 locais para pegar (pick up) e deixar (drop off) passageiros: R, G, Y B\n",
    "- Locais\n",
    "  - R (0,0)\n",
    "  - G (0,4)\n",
    "  - Y (4,0)\n",
    "  - B (4,3)\n",
    "- Posição do Passageiro sempre estará em AZUL\n",
    "- O destino do passageiro estará sempre em ROSA\n",
    "- Logo, no cenário atual o passageiro está no Y e deseja chegar no R\n",
    "- As possíveis posições do passageiro são os 4 locais, mais 1 da posição de dentro do táxi\n",
    "- Se a gente contabilizar todas as possíveis posições, teremos:\n",
    "  - Posições do Táxi (5x5) | 5 Posições do Passageiro | 4 destinos\n",
    "  - 5 x 5 x 5 x 4 = 500 estados/cenários possíveis\n",
    "\n",
    "<table><tr>\n",
    "        <td>  \n",
    "        <ol>    \n",
    "            <center><h4>6 Possíveis Ações</h4></center>\n",
    "            <li>South (Sul)</li>\n",
    "            <li>North (Norte)</li>\n",
    "            <li>East  (Leste)</li>\n",
    "            <li>West  (Oeste)</li>\n",
    "            <li>Pickup (Pegar)</li>\n",
    "            <li>Dropoff (Deixar)</li>\n",
    "            </ol>\n",
    "        </td>\n",
    "        <td>\n",
    "        <img src=\"imagens/rosadosventos.jpeg\" width=\"200px\"/>\n",
    "        </td>    \n",
    "       </tr>\n",
    "</table>\n",
    "\n",
    "<br>\n",
    "<br>\n"
   ]
  },
  {
   "cell_type": "code",
   "execution_count": 61,
   "metadata": {},
   "outputs": [],
   "source": [
    "import gym"
   ]
  },
  {
   "cell_type": "code",
   "execution_count": 62,
   "metadata": {},
   "outputs": [
    {
     "name": "stdout",
     "output_type": "stream",
     "text": [
      "+---------+\n",
      "|\u001b[35mR\u001b[0m: | : :G|\n",
      "|\u001b[43m \u001b[0m: | : : |\n",
      "| : : : : |\n",
      "| | : | : |\n",
      "|\u001b[34;1mY\u001b[0m| : |B: |\n",
      "+---------+\n",
      "\n",
      "\n"
     ]
    }
   ],
   "source": [
    "env = gym.make('Taxi-v3', render_mode='ansi')\n",
    "env.reset()\n",
    "print(env.render())"
   ]
  },
  {
   "cell_type": "markdown",
   "metadata": {},
   "source": [
    "O objetivo é pegar um passageiro em um local e deixá-lo no destino requerido.\n",
    "\n",
    "- **Recebe +20 pontos** quando deixar um passageiro no destino correto\n",
    "- **Perder -1 ponto** a cada movimento que ele dá\n",
    "- **Perde -10 pontos** para tentativa de pegar ou deixar o passageiro numa posição ilegal\n",
    "\n",
    "O agente aprende a fazer 6 ações de 0-5\n",
    "\n",
    "- 0 = south\n",
    "- 1 = north\n",
    "- 2 = east\n",
    "- 3 = west\n",
    "- 4 = pickup\n",
    "- 5 = dropoff\n",
    "\n",
    "PS1: Quando o táxi está com um passageiro dentro, sua cor muda para **verde**. <br>\n",
    "PS2: Os 500 estados possíveis, numerados de 0-499 são uma codificação da posição do táxi, passageiro, e destino.\n",
    "<br>PS3: O táxi não consegue fazer nenhum movimento em direção a parede. Quando o faz, **perde -1** e não sai do lugar.\n"
   ]
  },
  {
   "cell_type": "code",
   "execution_count": 63,
   "metadata": {},
   "outputs": [
    {
     "name": "stdout",
     "output_type": "stream",
     "text": [
      "+---------+\n",
      "|R: | : :G|\n",
      "| : | : : |\n",
      "| : : : : |\n",
      "| | : | : |\n",
      "|\u001b[35mY\u001b[0m| : |\u001b[34;1mB\u001b[0m:\u001b[43m \u001b[0m|\n",
      "+---------+\n",
      "\n",
      "\n",
      "Possible actions Discrete(6)\n",
      "Possible positions Discrete(500)\n"
     ]
    }
   ],
   "source": [
    "env.reset()\n",
    "print(env.render())\n",
    "print('Possible actions', env.action_space)\n",
    "print('Possible positions', env.observation_space)"
   ]
  },
  {
   "cell_type": "markdown",
   "metadata": {},
   "source": [
    "| Index | Letra |\n",
    "| ----- | ----- |\n",
    "| 0     | R     |\n",
    "| 1     | G     |\n",
    "| 2     | Y     |\n",
    "| 3     | B     |\n"
   ]
  },
  {
   "cell_type": "markdown",
   "metadata": {},
   "source": [
    "### Renderizar o cenário da ilustração\n"
   ]
  },
  {
   "cell_type": "code",
   "execution_count": 64,
   "metadata": {},
   "outputs": [
    {
     "name": "stdout",
     "output_type": "stream",
     "text": [
      "State 328\n",
      "+---------+\n",
      "|R: | : :G|\n",
      "| : | : : |\n",
      "| : : : : |\n",
      "| | : | : |\n",
      "|\u001b[35mY\u001b[0m| : |\u001b[34;1mB\u001b[0m:\u001b[43m \u001b[0m|\n",
      "+---------+\n",
      "\n",
      "\n"
     ]
    }
   ],
   "source": [
    "state = env.encode(3, 1, 2, 0)\n",
    "print('State', state)\n",
    "env.s = state\n",
    "print(env.render())"
   ]
  },
  {
   "cell_type": "markdown",
   "metadata": {},
   "source": [
    "### Tabela da Recompensa\n",
    "\n",
    "<br>{ação: [(probabilidade, próximo_estado, recompensa, terminado)]\n",
    "<br>ação: [(probabilidade, próximo_estado, recompensa, terminado)]\n",
    "<br>ação: [(probabilidade, próximo_estado, recompensa, terminado)]\n",
    "<br>ação: [(probabilidade, próximo_estado, recompensa, terminado)]\n",
    "<br>ação: [(probabilidade, próximo_estado, recompensa, terminado)]\n",
    "<br>ação: [(probabilidade, próximo_estado, recompensa, terminado)]}\n"
   ]
  },
  {
   "cell_type": "code",
   "execution_count": 65,
   "metadata": {},
   "outputs": [
    {
     "data": {
      "text/plain": [
       "{0: [(1.0, 422, -1, False)],\n",
       " 1: [(1.0, 222, -1, False)],\n",
       " 2: [(1.0, 342, -1, False)],\n",
       " 3: [(1.0, 322, -1, False)],\n",
       " 4: [(1.0, 322, -10, False)],\n",
       " 5: [(1.0, 322, -10, False)]}"
      ]
     },
     "execution_count": 65,
     "metadata": {},
     "output_type": "execute_result"
    }
   ],
   "source": [
    "env.P[322]"
   ]
  },
  {
   "cell_type": "markdown",
   "metadata": {},
   "source": [
    "### Solucionando Sem Aprendizagem Reinforçada\n"
   ]
  },
  {
   "cell_type": "code",
   "execution_count": 83,
   "metadata": {},
   "outputs": [
    {
     "ename": "ValueError",
     "evalue": "too many values to unpack (expected 4)",
     "output_type": "error",
     "traceback": [
      "\u001b[0;31m---------------------------------------------------------------------------\u001b[0m",
      "\u001b[0;31mValueError\u001b[0m                                Traceback (most recent call last)",
      "Cell \u001b[0;32mIn[83], line 15\u001b[0m\n\u001b[1;32m     13\u001b[0m \u001b[38;5;28;01mwhile\u001b[39;00m \u001b[38;5;129;01mnot\u001b[39;00m finished:\n\u001b[1;32m     14\u001b[0m     action \u001b[38;5;241m=\u001b[39m env\u001b[38;5;241m.\u001b[39maction_space\u001b[38;5;241m.\u001b[39msample()\n\u001b[0;32m---> 15\u001b[0m     state, reward, finished, info \u001b[38;5;241m=\u001b[39m env\u001b[38;5;241m.\u001b[39mstep(action)\n\u001b[1;32m     17\u001b[0m     \u001b[38;5;28;01mif\u001b[39;00m reward \u001b[38;5;241m==\u001b[39m \u001b[38;5;241m-\u001b[39m\u001b[38;5;241m10\u001b[39m:\n\u001b[1;32m     18\u001b[0m         punishments \u001b[38;5;241m+\u001b[39m\u001b[38;5;241m=\u001b[39m \u001b[38;5;241m1\u001b[39m\n",
      "\u001b[0;31mValueError\u001b[0m: too many values to unpack (expected 4)"
     ]
    }
   ],
   "source": [
    "\"\"\"\n",
    "Mesmo após seguir o video, usar o notebook preenchido e pesquisar no google/ stack overflow \n",
    "e usar chat GPT não foi possivel achar uma solução.\n",
    "\"\"\"\n",
    "\n",
    "env.s = 322\n",
    "frames = []\n",
    "epochs = 0\n",
    "punishments, reward = 0, 0\n",
    "\n",
    "finished = False\n",
    "\n",
    "while not finished:\n",
    "    action = env.action_space.sample()\n",
    "    state, reward, finished, info = env.step(action)\n",
    "\n",
    "    if reward == -10:\n",
    "        punishments += 1\n",
    "\n",
    "    frames.append({\n",
    "        'frame': env.render(mode='ansi'),\n",
    "        'state': state,\n",
    "        'action': action,\n",
    "        'reward': reward,\n",
    "    })\n",
    "\n",
    "    epochs += 1\n",
    "\n",
    "print('Timesteps', epochs)\n",
    "print('Punishments received', punishments)"
   ]
  },
  {
   "cell_type": "code",
   "execution_count": null,
   "metadata": {},
   "outputs": [],
   "source": [
    "\"\"\"\n",
    "Aqui seria a visualização do que foi feito acima\n",
    "\"\"\""
   ]
  },
  {
   "cell_type": "markdown",
   "metadata": {},
   "source": [
    "### Com Aprendizagem Reinforçada\n",
    "\n",
    "#### Q-learning\n",
    "\n",
    "Essencialmente, o agente vai aprender através das recompensas(positivas e negativas) com um tempo a tomar a melhor decisão para um determinado estado.\n",
    "\n",
    "- Temos a tabela da recompensa P que é de onde o agente vai aprender, ao tomar uma ação no estado atual e observando a recompensa/punição, atualiza o valor-Q (Q-value).\n",
    "- O valor-Q para um estado/cenário representa a \"qualidade\" da ação que ele irá tomar\n",
    "\n",
    "Os valores-Q são inicializados de forma aleatória, e o agente se expõe ao ambiente, onde recebe diferentes recompensas (positivas e negativas) ao tomar diferentes ações, de forma que os valores-Q são atualizados usando a seguinte fórmula:\n",
    "\n",
    "$$Q({\\small estado}, {\\small ação}) = (1 - \\alpha) \\cdot Q({\\small estado}, {\\small ação}) + \\alpha \\Big({\\small recompensa} + {\\gamma \\max}_{a} Q({\\small próximo \\ estado}, {\\small todas \\ ações})\\Big)$$\n",
    "\n",
    "Onde:\n",
    "\n",
    "- $\\Large \\alpha$ (Alpha) é a taxa de aprendizagem (entre 0 e 1)\n",
    "- $\\Large \\gamma$ (Gamma) é o fator de desconto também (entre 0 e 1), que significa o quanto de importância a gente quer dar para uma recompensa. De forma que 0 faz com que o agente se preocupe apenas com a recompensa imediata. O ideal é que o agente tome as ações considerando as recompensas do estado atual, e o máximo de recompensa para o próximo estado.\n"
   ]
  },
  {
   "cell_type": "markdown",
   "metadata": {},
   "source": [
    "# Tabela-Q\n",
    "\n",
    "<img src=\"imagens/qtable.png\">\n"
   ]
  },
  {
   "cell_type": "markdown",
   "metadata": {},
   "source": [
    "- A Tabela-Q tem seus valores inicializados como 0, e depois vão sendo atualizados conforme o agente vai tomando ações no ambiente e obtendo o máximo de recompensas\n",
    "\n",
    "### Resumindo\n",
    "\n",
    "- Inicializa a tabela-Q com zeros\n",
    "- Começa a explorar o ambiente com ações, seleciona uma de todas as ações possíveis no estado atual ($Es_{1}$)\n",
    "- Vai para o próximo estado ($Es_{2}$) como resultado da ação ($A_{1}$)\n",
    "- De todas as possíveis ações no estado ($Es_{2}$) seleciona a que possui o maior valor-Q\n",
    "- Atualiza a tabela-Q usando a equação\n",
    "- Define o próximo estado como o estado atual\n",
    "- Se o objetivo é alcançado, termina, senão, repete o processo\n"
   ]
  },
  {
   "cell_type": "code",
   "execution_count": 84,
   "metadata": {},
   "outputs": [],
   "source": [
    "import numpy as np\n",
    "\n",
    "q_table = np.zeros([env.observation_space.n, env.action_space.n])"
   ]
  },
  {
   "cell_type": "code",
   "execution_count": 85,
   "metadata": {},
   "outputs": [
    {
     "data": {
      "text/plain": [
       "(500, 6)"
      ]
     },
     "execution_count": 85,
     "metadata": {},
     "output_type": "execute_result"
    }
   ],
   "source": [
    "q_table.shape"
   ]
  },
  {
   "cell_type": "code",
   "execution_count": 86,
   "metadata": {},
   "outputs": [
    {
     "data": {
      "text/plain": [
       "array([[0., 0., 0., 0., 0., 0.],\n",
       "       [0., 0., 0., 0., 0., 0.],\n",
       "       [0., 0., 0., 0., 0., 0.],\n",
       "       ...,\n",
       "       [0., 0., 0., 0., 0., 0.],\n",
       "       [0., 0., 0., 0., 0., 0.],\n",
       "       [0., 0., 0., 0., 0., 0.]])"
      ]
     },
     "execution_count": 86,
     "metadata": {},
     "output_type": "execute_result"
    }
   ],
   "source": [
    "q_table"
   ]
  },
  {
   "cell_type": "markdown",
   "metadata": {},
   "source": [
    "### Explorando valores aprendidos\n",
    "\n",
    "Depois de explorar ações aleatórias, os valores-Q tendem a se divergirem, de forma que o agente vai poder escolher a melhor ação possível para um determinado estado.\n",
    "\n",
    "Existe um meio termo entre explorar (escolher uma ação aleatória) e usufruir (escolher ações baseadas em valores-Q já aprendidos/treinados). Nós queremos impedir o agente de ficar toda vez fazendo os exatos movimentos, e possivelmente se super-adequando _(overfitting)_. Para evitar isso, usamos mais um parâmetro chamado $\\Large \\epsilon$ \"epsilon\" para equilibrar essas ações durante o treino do agente.\n",
    "\n",
    "Ao invés de apenas selecionar o melhor valor-Q, algumas vezes vamos explorar novas ações. Um epsilon pequeno trás mais punições (em média), o que é natural, uma vez que estamos explorando tomando ações aleatórias.\n"
   ]
  },
  {
   "cell_type": "markdown",
   "metadata": {},
   "source": [
    "## Treinando o Agente\n"
   ]
  },
  {
   "cell_type": "code",
   "execution_count": 87,
   "metadata": {},
   "outputs": [],
   "source": [
    "import random"
   ]
  },
  {
   "cell_type": "code",
   "execution_count": 111,
   "metadata": {},
   "outputs": [
    {
     "name": "stderr",
     "output_type": "stream",
     "text": [
      "UsageError: Line magic function `%%time` not found.\n"
     ]
    }
   ],
   "source": [
    "\"\"\"\n",
    "Mesmo após seguir o video, usar o notebook preenchido e pesquisar no google/ stack overflow \n",
    "e usar chat GPT não foi possivel achar uma solução.\n",
    "\"\"\"\n",
    "\n",
    "%%time\n",
    "alpha = 0.1\n",
    "gamma = 0.6\n",
    "epsilon = 0.1\n",
    "\n",
    "\n",
    "for i in range(10000):\n",
    "    state = env.reset()\n",
    "\n",
    "    epoch, punishment, reward = 0, 0, 0\n",
    "    finished = False\n",
    "\n",
    "    while not finished:\n",
    "        if random.uniform(0,1) < epsilon:\n",
    "            action = env.action_space.sample()\n",
    "        else:\n",
    "            action = np.argmax(q_table[state])\n",
    "        \n",
    "        next_state, reward, finished, info = env.step(action)\n",
    "\n",
    "        old_value = q_table[state, action]\n",
    "        next_max_value = np.max(q_table[next_state])\n",
    "\n",
    "        new_value = (1 - alpha) * old_value + alpha * (reward + gamma * next_max_value)\n",
    "\n",
    "        q_table[state, action] = new_value\n",
    "\n",
    "        if reward == -10:\n",
    "            punishment += 1\n",
    "        \n",
    "        state = next_state\n",
    "        epoch += 1\n",
    "\n",
    "    clear_output(wait=True)\n",
    "    print('Episodes', i + 1)\n",
    "print('Finished')"
   ]
  },
  {
   "cell_type": "markdown",
   "metadata": {},
   "source": [
    "Agora que já treinamos o Agente, não precisamos mais explorar. Vamos apenas selecionar sempre a melhor ação escolhendo o melhor valor-Q.\n"
   ]
  },
  {
   "cell_type": "code",
   "execution_count": null,
   "metadata": {},
   "outputs": [],
   "source": [
    "# Como as o conteudo abaixo depende do modelo que seria treinado acima, nao foi preenchido"
   ]
  },
  {
   "cell_type": "code",
   "execution_count": null,
   "metadata": {},
   "outputs": [],
   "source": []
  },
  {
   "cell_type": "markdown",
   "metadata": {},
   "source": [
    "## Otimizações de Hiperparâmetros\n"
   ]
  },
  {
   "cell_type": "markdown",
   "metadata": {},
   "source": [
    "Alpha, gamma e epsilon foram definidos baseados na intuição, mas existem melhores formas de escolher os melhores parâmetros e ter um desempenho melhor.\n",
    "\n",
    "- $\\Large \\alpha$ (Alpha) - (Taxa de aprendizagem) = Deveria diminuir com o tempo, para o agente aprender cada vez mais e mais\n",
    "- $\\Large \\gamma$ (Gamma) - Quanto mais próximo você está do objetivo final, maior deveria ser a preferência para a recompensa imediata\n",
    "- $\\Large \\epsilon$ (Epsilon) - Quanto mais experiência tem o agente, menos precisará explorar. Logo, o epsilon deve diminuir com o tempo.\n",
    "\n",
    "- Poderíamos aplicar uma pesquisa pelos melhores parâmetros, similar ao GridSearch que vimos para os modelos preditivos.\n"
   ]
  },
  {
   "cell_type": "markdown",
   "metadata": {},
   "source": [
    "Fontes (em inglês):\n",
    "\n",
    "- https://gym.openai.com/\n",
    "- https://www.learndatasci.com/tutorials/reinforcement-q-learning-scratch-python-openai-gym/\n"
   ]
  }
 ],
 "metadata": {
  "kernelspec": {
   "display_name": "curso_data_science",
   "language": "python",
   "name": "curso_data_science"
  },
  "language_info": {
   "codemirror_mode": {
    "name": "ipython",
    "version": 3
   },
   "file_extension": ".py",
   "mimetype": "text/x-python",
   "name": "python",
   "nbconvert_exporter": "python",
   "pygments_lexer": "ipython3",
   "version": "3.12.2"
  }
 },
 "nbformat": 4,
 "nbformat_minor": 2
}
